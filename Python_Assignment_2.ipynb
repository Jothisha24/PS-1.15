{
  "nbformat": 4,
  "nbformat_minor": 0,
  "metadata": {
    "colab": {
      "provenance": []
    },
    "kernelspec": {
      "name": "python3",
      "display_name": "Python 3"
    },
    "language_info": {
      "name": "python"
    }
  },
  "cells": [
    {
      "cell_type": "code",
      "execution_count": 1,
      "metadata": {
        "id": "dTOzGFTduruC",
        "colab": {
          "base_uri": "https://localhost:8080/"
        },
        "outputId": "9d8e631b-aea2-4cac-8471-aec2e8375cf0"
      },
      "outputs": [
        {
          "output_type": "stream",
          "name": "stdout",
          "text": [
            "Enter a number: 6\n",
            "8\n"
          ]
        }
      ],
      "source": [
        "n = int(input(\"Enter a number: \"))\n",
        "result = sum(x for x in range(n) if x % 3 == 0 or x % 5 == 0) if n > 0 else 0\n",
        "print(result)\n",
        "\n"
      ]
    },
    {
      "cell_type": "code",
      "source": [
        "text = input(\"Enter a string: \")\n",
        "\n",
        "words = text.replace(\"-\", \" \").replace(\"_\", \" \").split()\n",
        "camel_case = words[0] + \"\".join(word.capitalize() for word in words[1:]) if words else \"\"\n",
        "\n",
        "print(camel_case)\n",
        "\n"
      ],
      "metadata": {
        "colab": {
          "base_uri": "https://localhost:8080/"
        },
        "id": "kBNA8A8oxbgl",
        "outputId": "fadef489-f0b0-4df3-ef7f-4f8f86e635c4"
      },
      "execution_count": 2,
      "outputs": [
        {
          "output_type": "stream",
          "name": "stdout",
          "text": [
            "Enter a string: \"the-stealth-warrior\"\n",
            "\"theStealthWarrior\"\n"
          ]
        }
      ]
    },
    {
      "cell_type": "code",
      "source": [
        "def remove_vowels(s):\n",
        "    return \"\".join(char for char in s if char.lower() not in \"aeiou\")\n",
        "\n",
        "print(remove_vowels(\"This website is for losers LOL!\"))\n",
        "\n"
      ],
      "metadata": {
        "colab": {
          "base_uri": "https://localhost:8080/"
        },
        "id": "MVL-vN4UxfWP",
        "outputId": "5dc54591-6155-4f08-eb84-99c5e35fffea"
      },
      "execution_count": 3,
      "outputs": [
        {
          "output_type": "stream",
          "name": "stdout",
          "text": [
            "Ths wbst s fr lsrs LL!\n"
          ]
        }
      ]
    },
    {
      "cell_type": "code",
      "source": [
        "def order(sentence):\n",
        "    return \" \".join(sorted(sentence.split(), key=lambda word: sorted(word)))\n",
        "\n",
        "\n",
        "print(order(\"is2 Thi1s T4est 3a\"))\n",
        "print(order(\"4four 2two 1one 3three\"))\n",
        "print(order(\"\"))\n"
      ],
      "metadata": {
        "colab": {
          "base_uri": "https://localhost:8080/"
        },
        "id": "iXVm3kuexh65",
        "outputId": "1446fe20-7643-407e-8fe8-7bcba620e497"
      },
      "execution_count": 4,
      "outputs": [
        {
          "output_type": "stream",
          "name": "stdout",
          "text": [
            "Thi1s is2 3a T4est\n",
            "1one 2two 3three 4four\n",
            "\n"
          ]
        }
      ]
    },
    {
      "cell_type": "code",
      "source": [
        "arr = [5, 3, 2, 8, 1, 4]\n",
        "odds = sorted([num for num in arr if num % 2 != 0])\n",
        "odd_index = 0\n",
        "\n",
        "result = []\n",
        "for num in arr:\n",
        "    if num % 2 != 0:\n",
        "        result.append(odds[odd_index])\n",
        "        odd_index += 1\n",
        "    else:\n",
        "        result.append(num)\n",
        "\n",
        "print(result)"
      ],
      "metadata": {
        "colab": {
          "base_uri": "https://localhost:8080/"
        },
        "id": "P04iIPkOxlVN",
        "outputId": "ff17c533-068e-4d0a-f430-634e693efafc"
      },
      "execution_count": 5,
      "outputs": [
        {
          "output_type": "stream",
          "name": "stdout",
          "text": [
            "[1, 3, 2, 8, 5, 4]\n"
          ]
        }
      ]
    }
  ]
}